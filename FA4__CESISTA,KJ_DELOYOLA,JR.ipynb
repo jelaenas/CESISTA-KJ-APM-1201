{
  "nbformat": 4,
  "nbformat_minor": 0,
  "metadata": {
    "colab": {
      "provenance": []
    },
    "kernelspec": {
      "name": "python3",
      "display_name": "Python 3"
    },
    "language_info": {
      "name": "python"
    }
  },
  "cells": [
    {
      "cell_type": "markdown",
      "source": [
        "**P-4.24** Write  program solving summation puzzles by enumerating and testing all possibile configurations. Using your program, solve the three puzzles given in Section 4.3.3."
      ],
      "metadata": {
        "id": "fSssxq5cYXT7"
      }
    },
    {
      "cell_type": "code",
      "source": [
        "from itertools import permutations\n",
        "\n",
        "def word_to_num(word, mapping):\n",
        "    return int(''.join(str(mapping[letter]) for letter in word))\n",
        "\n",
        "def solve(words):\n",
        "    letters = set(''.join(words))\n",
        "\n",
        "    if len(letters) > 10:\n",
        "        print(\"Too many unique letters to map to digits.\")\n",
        "        return\n",
        "\n",
        "    for perm in permutations(range(10), len(letters)):\n",
        "        mapping = dict(zip(letters, perm))\n",
        "\n",
        "        if any(mapping[word[0]] == 0 for word in words):\n",
        "            continue\n",
        "\n",
        "        if word_to_num(words[0], mapping) + word_to_num(words[1], mapping) == word_to_num(words[2], mapping):\n",
        "            print(\"Solution found:\")\n",
        "            for letter, digit in mapping.items():\n",
        "                print(f\"{letter} = {digit}\")\n",
        "            return\n",
        "\n",
        "    print(\"No solution found.\")\n",
        "\n",
        "puzzles = [\n",
        "    (\"pot\", \"pan\", \"bib\"),\n",
        "    (\"dog\", \"cat\", \"pig\"),\n",
        "    (\"boy\", \"girl\", \"baby\")\n",
        "    ]\n",
        "\n",
        "for puzzle in puzzles:\n",
        "    print(f\"Solving puzzle: {puzzle[0]} + {puzzle[1]} = {puzzle[2]}\")\n",
        "    solve(puzzle)\n",
        "    print(\"-\" * 30)"
      ],
      "metadata": {
        "colab": {
          "base_uri": "https://localhost:8080/"
        },
        "id": "In_zlYU-YxAD",
        "outputId": "a5c7d9eb-f058-42fb-df7e-5c20642a7f62"
      },
      "execution_count": null,
      "outputs": [
        {
          "output_type": "stream",
          "name": "stdout",
          "text": [
            "Solving puzzle: pot + pan = bib\n",
            "Solution found:\n",
            "n = 1\n",
            "i = 0\n",
            "b = 5\n",
            "t = 4\n",
            "p = 2\n",
            "a = 3\n",
            "o = 7\n",
            "------------------------------\n",
            "Solving puzzle: dog + cat = pig\n",
            "Solution found:\n",
            "i = 1\n",
            "d = 2\n",
            "t = 0\n",
            "p = 6\n",
            "a = 4\n",
            "o = 7\n",
            "c = 3\n",
            "g = 5\n",
            "------------------------------\n",
            "Solving puzzle: boy + girl = baby\n",
            "Solution found:\n",
            "r = 2\n",
            "i = 3\n",
            "l = 0\n",
            "b = 8\n",
            "a = 1\n",
            "y = 4\n",
            "o = 6\n",
            "g = 7\n",
            "------------------------------\n"
          ]
        }
      ]
    },
    {
      "cell_type": "markdown",
      "source": [
        "**P-4.26 Write a program that can solve instances of the Tower of Hanoi problem.**"
      ],
      "metadata": {
        "id": "VHAsJ7FbZh1X"
      }
    },
    {
      "cell_type": "code",
      "source": [
        "def tower_of_hanoi(n, start, end, temp_storage):\n",
        "    if n > 0:\n",
        "        tower_of_hanoi(n - 1, start, temp_storage, end)\n",
        "        print(\"Move disk %d from peg %s to peg %s\" % (n, start, end))\n",
        "        tower_of_hanoi(n - 1, temp_storage, end, start)\n",
        "\n",
        "n=int(input(\"Enter the number of disks: \"))\n",
        "print('To move all the disks from peg A to peg C moving one disk at a time')\n",
        "print('While never placing a larger disk on top of a smaller one:')\n",
        "tower_of_hanoi(n, 'A', 'C', 'B')"
      ],
      "metadata": {
        "id": "jAr0utxoYpTO",
        "outputId": "7433247e-f329-4c3a-ff94-851f585e7c4f",
        "colab": {
          "base_uri": "https://localhost:8080/"
        }
      },
      "execution_count": null,
      "outputs": [
        {
          "output_type": "stream",
          "name": "stdout",
          "text": [
            "Enter the number of disks: 5\n",
            "To move all the disks from peg A to peg C moving one disk at a time\n",
            "While never placing a larger disk on top of a smaller one:\n",
            "Move disk 1 from peg A to peg C\n",
            "Move disk 2 from peg A to peg B\n",
            "Move disk 1 from peg C to peg B\n",
            "Move disk 3 from peg A to peg C\n",
            "Move disk 1 from peg B to peg A\n",
            "Move disk 2 from peg B to peg C\n",
            "Move disk 1 from peg A to peg C\n",
            "Move disk 4 from peg A to peg B\n",
            "Move disk 1 from peg C to peg B\n",
            "Move disk 2 from peg C to peg A\n",
            "Move disk 1 from peg B to peg A\n",
            "Move disk 3 from peg C to peg B\n",
            "Move disk 1 from peg A to peg C\n",
            "Move disk 2 from peg A to peg B\n",
            "Move disk 1 from peg C to peg B\n",
            "Move disk 5 from peg A to peg C\n",
            "Move disk 1 from peg B to peg A\n",
            "Move disk 2 from peg B to peg C\n",
            "Move disk 1 from peg A to peg C\n",
            "Move disk 3 from peg B to peg A\n",
            "Move disk 1 from peg C to peg B\n",
            "Move disk 2 from peg C to peg A\n",
            "Move disk 1 from peg B to peg A\n",
            "Move disk 4 from peg B to peg C\n",
            "Move disk 1 from peg A to peg C\n",
            "Move disk 2 from peg A to peg B\n",
            "Move disk 1 from peg C to peg B\n",
            "Move disk 3 from peg A to peg C\n",
            "Move disk 1 from peg B to peg A\n",
            "Move disk 2 from peg B to peg C\n",
            "Move disk 1 from peg A to peg C\n"
          ]
        }
      ]
    }
  ]
}