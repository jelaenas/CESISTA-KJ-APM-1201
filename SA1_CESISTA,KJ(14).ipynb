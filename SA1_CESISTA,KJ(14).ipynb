{
 "cells": [
  {
   "cell_type": "code",
   "execution_count": 6,
   "id": "fa577347",
   "metadata": {},
   "outputs": [
    {
     "name": "stdout",
     "output_type": "stream",
     "text": [
      "Enter the minimum value for the sequence: 5\n",
      "Enter the maximum value for the sequence: 5434\n",
      "Enter the number of elements in the sequence: 836\n",
      "Enter value of k: 731\n",
      "Found pair: (10, 721)\n",
      "Running time is: 0.0010457038879394531\n"
     ]
    }
   ],
   "source": [
    "import random\n",
    "import time\n",
    "\n",
    "def pair_sum(S, left, right, k):\n",
    "    if left >= right:\n",
    "        return None\n",
    "\n",
    "    temporary_sum = S[left] + S[right]\n",
    "\n",
    "    if temporary_sum == k:\n",
    "        return (S[left], S[right])\n",
    "    elif temporary_sum < k:\n",
    "        return pair_sum(S, left + 1, right, k)\n",
    "    else:\n",
    "        return pair_sum(S, left, right - 1, k)\n",
    "\n",
    "def find_pair(S, k):\n",
    "    return pair_sum(S, 0, len(S) - 1, k)\n",
    "\n",
    "min_value = int(input(\"Enter the minimum value for the sequence: \"))\n",
    "max_value = int(input(\"Enter the maximum value for the sequence: \"))\n",
    "n = int(input(\"Enter the number of elements in the sequence: \"))\n",
    "k = int(input(\"Enter value of k: \"))\n",
    "\n",
    "if max_value - min_value + 1 < n:\n",
    "    range_value = max_value - min_value\n",
    "    print(f\"Given range is too small. Value of n should be less than {range_value}\")\n",
    "    n = int(input(\"Enter the number of elements in the sequence: \"))\n",
    "else:\n",
    "    S = sorted(random.sample(range(min_value, max_value + 1), n))\n",
    "\n",
    "start = time.time()\n",
    "result = find_pair(S, k)\n",
    "end = time.time()\n",
    "\n",
    "if result:\n",
    "        print(f\"Found pair: {result}\")\n",
    "        print(\"Running time is:\", end=\" \")\n",
    "        print(end-start)\n",
    "else:\n",
    "        print(\"No pair found.\")"
   ]
  }
 ],
 "metadata": {
  "kernelspec": {
   "display_name": "Python 3 (ipykernel)",
   "language": "python",
   "name": "python3"
  },
  "language_info": {
   "codemirror_mode": {
    "name": "ipython",
    "version": 3
   },
   "file_extension": ".py",
   "mimetype": "text/x-python",
   "name": "python",
   "nbconvert_exporter": "python",
   "pygments_lexer": "ipython3",
   "version": "3.11.5"
  }
 },
 "nbformat": 4,
 "nbformat_minor": 5
}
